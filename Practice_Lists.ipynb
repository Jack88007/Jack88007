{
  "nbformat": 4,
  "nbformat_minor": 0,
  "metadata": {
    "colab": {
      "provenance": [],
      "authorship_tag": "ABX9TyNfq9G2h2eYC2Pf7UDQaX3N",
      "include_colab_link": true
    },
    "kernelspec": {
      "name": "python3",
      "display_name": "Python 3"
    },
    "language_info": {
      "name": "python"
    }
  },
  "cells": [
    {
      "cell_type": "markdown",
      "metadata": {
        "id": "view-in-github",
        "colab_type": "text"
      },
      "source": [
        "<a href=\"https://colab.research.google.com/github/Jack88007/Jack88007/blob/main/Practice_Lists.ipynb\" target=\"_parent\"><img src=\"https://colab.research.google.com/assets/colab-badge.svg\" alt=\"Open In Colab\"/></a>"
      ]
    },
    {
      "cell_type": "code",
      "source": [
        "bicycles = ['trek', 'rocky', 'cannondale', 'redline', 'specialized']\n",
        "message = f\"My new bicycle is {bicycles [0].title()}\"\n",
        "print (message)"
      ],
      "metadata": {
        "colab": {
          "base_uri": "https://localhost:8080/"
        },
        "id": "aXB49jrM5XRM",
        "outputId": "5a04dac3-2871-48f2-fdef-c43674de843e"
      },
      "execution_count": null,
      "outputs": [
        {
          "output_type": "stream",
          "name": "stdout",
          "text": [
            "My new bicycle is Trek\n"
          ]
        }
      ]
    },
    {
      "cell_type": "markdown",
      "source": [
        "**EXCERCISE 3-1**"
      ],
      "metadata": {
        "id": "bvZtmCQZ82wf"
      }
    },
    {
      "cell_type": "code",
      "source": [
        "Names = ['Sujata', 'Gaatha', 'Ajay', 'Prachi', 'Abir', 'Rupesh']\n",
        "message = f\"Gaathas brother is {Names [4].title()}\"\n",
        "print (message)"
      ],
      "metadata": {
        "colab": {
          "base_uri": "https://localhost:8080/"
        },
        "id": "skEXBQYF8z7O",
        "outputId": "81c1d821-e9b0-4324-8b6e-9f1626874c4a"
      },
      "execution_count": null,
      "outputs": [
        {
          "output_type": "stream",
          "name": "stdout",
          "text": [
            "Gaathas brother is Abir\n"
          ]
        }
      ]
    },
    {
      "cell_type": "markdown",
      "source": [
        "**List Functions**"
      ],
      "metadata": {
        "id": "Q0Srbij0l4G2"
      }
    },
    {
      "cell_type": "code",
      "source": [
        "Names = ['Sujata', 'Gaatha', 'Ajay', 'Prachi', 'Abir', 'Rupesh']\n",
        "Names[0] = 'sujata thamke'\n",
        "print ( Names)\n",
        "Names.append('jayant')"
      ],
      "metadata": {
        "colab": {
          "base_uri": "https://localhost:8080/"
        },
        "outputId": "aad0e3ce-23bd-45f3-d54a-6eaabbc87929",
        "id": "GjBuegNXmBSc"
      },
      "execution_count": null,
      "outputs": [
        {
          "output_type": "stream",
          "name": "stdout",
          "text": [
            "['sujata thamke', 'Gaatha', 'Ajay', 'Prachi', 'Abir', 'Rupesh']\n"
          ]
        }
      ]
    },
    {
      "cell_type": "markdown",
      "source": [],
      "metadata": {
        "id": "MVEET9EgnVZ5"
      }
    },
    {
      "cell_type": "markdown",
      "source": [
        "**Adding a new element**"
      ],
      "metadata": {
        "id": "qVnZzWHWnaOv"
      }
    },
    {
      "cell_type": "code",
      "source": [
        "Names = ['Sujata', 'Gaatha', 'Ajay', 'Prachi', 'Abir', 'Rupesh']\n",
        "Names[0] = 'sujata thamke'\n",
        "Names.append('jayant')\n",
        "print ( Names)"
      ],
      "metadata": {
        "colab": {
          "base_uri": "https://localhost:8080/"
        },
        "id": "hkNE597Dmnql",
        "outputId": "15c78276-15f5-458e-f491-71594cd35556"
      },
      "execution_count": null,
      "outputs": [
        {
          "output_type": "stream",
          "name": "stdout",
          "text": [
            "['sujata thamke', 'Gaatha', 'Ajay', 'Prachi', 'Abir', 'Rupesh', 'jayant']\n"
          ]
        }
      ]
    },
    {
      "cell_type": "markdown",
      "source": [
        "**SLICE**"
      ],
      "metadata": {
        "id": "HLyp9VTtnWrH"
      }
    },
    {
      "cell_type": "code",
      "source": [
        "Names = ['Sujata', 'Gaatha', 'Ajay', 'Prachi', 'Abir', 'Rupesh']\n",
        "Names[0] = 'sujata thamke'\n",
        "Family = Names[0:2]\n",
        "print ( Family)"
      ],
      "metadata": {
        "colab": {
          "base_uri": "https://localhost:8080/"
        },
        "id": "o6_JTY86mxhp",
        "outputId": "51156c3e-2455-4e36-d5fe-9ca92fd878a5"
      },
      "execution_count": null,
      "outputs": [
        {
          "output_type": "stream",
          "name": "stdout",
          "text": [
            "['sujata thamke', 'Gaatha']\n"
          ]
        }
      ]
    },
    {
      "cell_type": "markdown",
      "source": [
        "**Remove**"
      ],
      "metadata": {
        "id": "2OZTg2CUngG3"
      }
    },
    {
      "cell_type": "code",
      "source": [
        "Names = ['Sujata', 'Gaatha', 'Ajay', 'Prachi', 'Abir', 'Rupesh']\n",
        "Names[0] = 'sujata thamke'\n",
        "Names.remove('Ajay')\n",
        "print (Names)"
      ],
      "metadata": {
        "colab": {
          "base_uri": "https://localhost:8080/"
        },
        "id": "UKTs7y6Wns9m",
        "outputId": "7623bfd2-974e-452f-d4b1-c761eec70d26"
      },
      "execution_count": null,
      "outputs": [
        {
          "output_type": "stream",
          "name": "stdout",
          "text": [
            "['sujata thamke', 'Gaatha', 'Prachi', 'Abir', 'Rupesh']\n"
          ]
        }
      ]
    },
    {
      "cell_type": "markdown",
      "source": [
        "**Delete and Pop**"
      ],
      "metadata": {
        "id": "7kU91E2otvvD"
      }
    },
    {
      "cell_type": "code",
      "source": [
        "Names = ['Sujata', 'Gaatha', 'Ajay', 'Prachi', 'Abir', 'Rupesh']\n",
        "del Names[0]\n",
        "print (Names)"
      ],
      "metadata": {
        "colab": {
          "base_uri": "https://localhost:8080/"
        },
        "id": "V_OvW26FtzCT",
        "outputId": "66f7e510-0e76-462b-ebd2-b02e35b481ed"
      },
      "execution_count": null,
      "outputs": [
        {
          "output_type": "stream",
          "name": "stdout",
          "text": [
            "['Gaatha', 'Ajay', 'Prachi', 'Abir', 'Rupesh']\n"
          ]
        }
      ]
    },
    {
      "cell_type": "code",
      "source": [
        "Names = ['Sujata', 'Gaatha', 'Ajay', 'Prachi', 'Abir', 'Rupesh']\n",
        "Popped_names = Names.pop()\n",
        "print (Popped_names)\n",
        "print(Names)"
      ],
      "metadata": {
        "colab": {
          "base_uri": "https://localhost:8080/"
        },
        "id": "saBTuQHPuIrE",
        "outputId": "281d13e0-1f21-4cbc-ed41-c90b191590f0"
      },
      "execution_count": null,
      "outputs": [
        {
          "output_type": "stream",
          "name": "stdout",
          "text": [
            "Rupesh\n",
            "['Sujata', 'Gaatha', 'Ajay', 'Prachi', 'Abir']\n"
          ]
        }
      ]
    },
    {
      "cell_type": "markdown",
      "source": [
        "3-4. Guest List: If you could invite anyone, living or deceased, to dinner, who would\n",
        "you invite? Make a list that includes at least three people you’d like to invite to dinner.\n",
        "Then use your list to print a message to each person, inviting them to dinner. **bold text**"
      ],
      "metadata": {
        "id": "SkvvcvcmW5_U"
      }
    },
    {
      "cell_type": "code",
      "source": [
        "guests = ['Shobha', 'Madhukar', 'Sakubai', 'Gopal', 'Rupesh', 'Jayshree', 'Abir', 'Ajay', 'Prachi', 'Niranjan', 'Suman']\n",
        "for Guests in Guests: \n",
        "    Print (Guest  you are invited for dinner on 25/12/2022)"
      ],
      "metadata": {
        "colab": {
          "base_uri": "https://localhost:8080/",
          "height": 133
        },
        "id": "2MX9otp9ZzBk",
        "outputId": "56f3af00-3807-4502-bcef-543be29ad10c"
      },
      "execution_count": null,
      "outputs": [
        {
          "output_type": "error",
          "ename": "SyntaxError",
          "evalue": "ignored",
          "traceback": [
            "\u001b[0;36m  File \u001b[0;32m\"<ipython-input-5-35c53fba3bc4>\"\u001b[0;36m, line \u001b[0;32m3\u001b[0m\n\u001b[0;31m    Print (Guest  you are invited for dinner on 25/12/2022)\u001b[0m\n\u001b[0m                  ^\u001b[0m\n\u001b[0;31mSyntaxError\u001b[0m\u001b[0;31m:\u001b[0m invalid syntax\n"
          ]
        }
      ]
    },
    {
      "cell_type": "code",
      "source": [
        "guests = ['Shobha', 'Madhukar', 'Sakubai', 'Gopal', 'Rupesh', 'Jayshree', 'Abir', 'Ajay', 'Prachi', 'Niranjan', 'Suman']\n",
        "for i in guests:\n",
        "    guest_list = [guest if guest != i else \"you\"for guest in guests]\n",
        "    print (f\"{i}, would you like to have dinner together? The following people received an invitation: {guest_list}\")"
      ],
      "metadata": {
        "colab": {
          "base_uri": "https://localhost:8080/"
        },
        "id": "cWgIrsUXcmlQ",
        "outputId": "bfe8ac1e-2907-4ec1-c882-c7fbd3f39bf2"
      },
      "execution_count": null,
      "outputs": [
        {
          "output_type": "stream",
          "name": "stdout",
          "text": [
            "Shobha, would you like to have dinner together? The following people received an invitation: ['you', 'Madhukar', 'Sakubai', 'Gopal', 'Rupesh', 'Jayshree', 'Abir', 'Ajay', 'Prachi', 'Niranjan', 'Suman']\n",
            "Madhukar, would you like to have dinner together? The following people received an invitation: ['Shobha', 'you', 'Sakubai', 'Gopal', 'Rupesh', 'Jayshree', 'Abir', 'Ajay', 'Prachi', 'Niranjan', 'Suman']\n",
            "Sakubai, would you like to have dinner together? The following people received an invitation: ['Shobha', 'Madhukar', 'you', 'Gopal', 'Rupesh', 'Jayshree', 'Abir', 'Ajay', 'Prachi', 'Niranjan', 'Suman']\n",
            "Gopal, would you like to have dinner together? The following people received an invitation: ['Shobha', 'Madhukar', 'Sakubai', 'you', 'Rupesh', 'Jayshree', 'Abir', 'Ajay', 'Prachi', 'Niranjan', 'Suman']\n",
            "Rupesh, would you like to have dinner together? The following people received an invitation: ['Shobha', 'Madhukar', 'Sakubai', 'Gopal', 'you', 'Jayshree', 'Abir', 'Ajay', 'Prachi', 'Niranjan', 'Suman']\n",
            "Jayshree, would you like to have dinner together? The following people received an invitation: ['Shobha', 'Madhukar', 'Sakubai', 'Gopal', 'Rupesh', 'you', 'Abir', 'Ajay', 'Prachi', 'Niranjan', 'Suman']\n",
            "Abir, would you like to have dinner together? The following people received an invitation: ['Shobha', 'Madhukar', 'Sakubai', 'Gopal', 'Rupesh', 'Jayshree', 'you', 'Ajay', 'Prachi', 'Niranjan', 'Suman']\n",
            "Ajay, would you like to have dinner together? The following people received an invitation: ['Shobha', 'Madhukar', 'Sakubai', 'Gopal', 'Rupesh', 'Jayshree', 'Abir', 'you', 'Prachi', 'Niranjan', 'Suman']\n",
            "Prachi, would you like to have dinner together? The following people received an invitation: ['Shobha', 'Madhukar', 'Sakubai', 'Gopal', 'Rupesh', 'Jayshree', 'Abir', 'Ajay', 'you', 'Niranjan', 'Suman']\n",
            "Niranjan, would you like to have dinner together? The following people received an invitation: ['Shobha', 'Madhukar', 'Sakubai', 'Gopal', 'Rupesh', 'Jayshree', 'Abir', 'Ajay', 'Prachi', 'you', 'Suman']\n",
            "Suman, would you like to have dinner together? The following people received an invitation: ['Shobha', 'Madhukar', 'Sakubai', 'Gopal', 'Rupesh', 'Jayshree', 'Abir', 'Ajay', 'Prachi', 'Niranjan', 'you']\n"
          ]
        }
      ]
    },
    {
      "cell_type": "code",
      "source": [
        "guest = ['Shobha', 'Madhukar', 'Sakubai', 'Gopal', 'Rupesh', 'Jayshree', 'Abir', 'Ajay', 'Prachi', 'Niranjan', 'Suman']\n",
        "for guest in guest:\n",
        "  print(f\"Hello, {guest.title()}, would you like to come to dinner?\")"
      ],
      "metadata": {
        "colab": {
          "base_uri": "https://localhost:8080/"
        },
        "id": "g5Ta48u4tL8I",
        "outputId": "efdada16-8270-417b-b84c-487245150165"
      },
      "execution_count": null,
      "outputs": [
        {
          "output_type": "stream",
          "name": "stdout",
          "text": [
            "Hello, Shobha, would you like to come to dinner?\n",
            "Hello, Madhukar, would you like to come to dinner?\n",
            "Hello, Sakubai, would you like to come to dinner?\n",
            "Hello, Gopal, would you like to come to dinner?\n",
            "Hello, Rupesh, would you like to come to dinner?\n",
            "Hello, Jayshree, would you like to come to dinner?\n",
            "Hello, Abir, would you like to come to dinner?\n",
            "Hello, Ajay, would you like to come to dinner?\n",
            "Hello, Prachi, would you like to come to dinner?\n",
            "Hello, Niranjan, would you like to come to dinner?\n",
            "Hello, Suman, would you like to come to dinner?\n"
          ]
        }
      ]
    },
    {
      "cell_type": "code",
      "source": [
        "guest = ['Shobha', 'Madhukar', 'Sakubai', 'Gopal', 'Rupesh', 'Jayshree', 'Abir', 'Ajay', 'Prachi', 'Niranjan', 'Suman']\n",
        "for i in range(10):\n",
        "  print(f\"Hello, {guests[i].title()}, would you like to come to dinner?\")"
      ],
      "metadata": {
        "colab": {
          "base_uri": "https://localhost:8080/"
        },
        "id": "T7EJKNO8x0rP",
        "outputId": "25a14c3d-8592-471b-b3f4-68ec5b870711"
      },
      "execution_count": null,
      "outputs": [
        {
          "output_type": "stream",
          "name": "stdout",
          "text": [
            "Hello, Shobha, would you like to come to dinner?\n",
            "Hello, Madhukar, would you like to come to dinner?\n",
            "Hello, Sakubai, would you like to come to dinner?\n",
            "Hello, Gopal, would you like to come to dinner?\n",
            "Hello, Rupesh, would you like to come to dinner?\n",
            "Hello, Jayshree, would you like to come to dinner?\n",
            "Hello, Abir, would you like to come to dinner?\n",
            "Hello, Ajay, would you like to come to dinner?\n",
            "Hello, Prachi, would you like to come to dinner?\n",
            "Hello, Niranjan, would you like to come to dinner?\n"
          ]
        }
      ]
    },
    {
      "cell_type": "markdown",
      "source": [
        "**Changing Guest List: You just heard that one of your guests can’t make the dinner, so you need to send out a new set of invitations. You’ll have to think of someone else to invite.\n",
        "Start with your program from Exercise 3-4. \n",
        "Add a print() call at the end of your program stating the name of the guest who can’t make it.\n",
        "Modify your list, replacing the name of the guest who can’t make it with the name of the new person you are inviting Print a second set of invitation messages, one for each person\n",
        "who is still in your list **"
      ],
      "metadata": {
        "id": "XN3fOE0LLcb8"
      }
    },
    {
      "cell_type": "code",
      "source": [
        "guest = ['Shobha', 'Madhukar', 'Sakubai', 'Gopal', 'Rupesh', 'Jayshree', 'Abir', 'Ajay', 'Prachi', 'Niranjan', 'Suman']\n",
        "for i in range(len(guests)):\n",
        "  Y= input (f\"Hello, {guests[i].title()}, would you like to come to dinner?\")\n",
        "if Y == 'NO':\n",
        "    print (guest)\n",
        "else:\n",
        "    print (\"none\")"
      ],
      "metadata": {
        "colab": {
          "base_uri": "https://localhost:8080/"
        },
        "id": "pzmCIHnOL2D3",
        "outputId": "3a608a03-cc95-4122-b6da-b6241efa56be"
      },
      "execution_count": null,
      "outputs": [
        {
          "output_type": "stream",
          "name": "stdout",
          "text": [
            "Hello, Shobha, would you like to come to dinner?Y\n",
            "Hello, Madhukar, would you like to come to dinner?\n",
            "Hello, Sakubai, would you like to come to dinner?NO\n",
            "Hello, Gopal, would you like to come to dinner?\n",
            "Hello, Rupesh, would you like to come to dinner?\n",
            "Hello, Jayshree, would you like to come to dinner?\n",
            "Hello, Abir, would you like to come to dinner?\n",
            "Hello, Ajay, would you like to come to dinner?\n",
            "Hello, Prachi, would you like to come to dinner?\n",
            "Hello, Niranjan, would you like to come to dinner?\n",
            "Hello, Suman, would you like to come to dinner?\n",
            "none\n"
          ]
        }
      ]
    }
  ]
}