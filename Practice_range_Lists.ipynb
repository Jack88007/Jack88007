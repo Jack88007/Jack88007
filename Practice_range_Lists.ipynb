{
  "nbformat": 4,
  "nbformat_minor": 0,
  "metadata": {
    "colab": {
      "provenance": [],
      "authorship_tag": "ABX9TyPR4v5EMfmgJJboK8hvU4fi",
      "include_colab_link": true
    },
    "kernelspec": {
      "name": "python3",
      "display_name": "Python 3"
    },
    "language_info": {
      "name": "python"
    }
  },
  "cells": [
    {
      "cell_type": "markdown",
      "metadata": {
        "id": "view-in-github",
        "colab_type": "text"
      },
      "source": [
        "<a href=\"https://colab.research.google.com/github/Jack88007/Jack88007/blob/main/Practice_range_Lists.ipynb\" target=\"_parent\"><img src=\"https://colab.research.google.com/assets/colab-badge.svg\" alt=\"Open In Colab\"/></a>"
      ]
    },
    {
      "cell_type": "markdown",
      "source": [
        "**first_numbers.py**"
      ],
      "metadata": {
        "id": "nXcch5PAHA-q"
      }
    },
    {
      "cell_type": "code",
      "source": [
        "number = list(range(1,13))\n",
        "for values in range (1,13):\n",
        " print (number)"
      ],
      "metadata": {
        "colab": {
          "base_uri": "https://localhost:8080/"
        },
        "id": "bvGTPyUhHEz_",
        "outputId": "fc29d461-d592-4340-f91e-82a5c2311a12"
      },
      "execution_count": 7,
      "outputs": [
        {
          "output_type": "stream",
          "name": "stdout",
          "text": [
            "[1, 2, 3, 4, 5, 6, 7, 8, 9, 10, 11, 12]\n",
            "[1, 2, 3, 4, 5, 6, 7, 8, 9, 10, 11, 12]\n",
            "[1, 2, 3, 4, 5, 6, 7, 8, 9, 10, 11, 12]\n",
            "[1, 2, 3, 4, 5, 6, 7, 8, 9, 10, 11, 12]\n",
            "[1, 2, 3, 4, 5, 6, 7, 8, 9, 10, 11, 12]\n",
            "[1, 2, 3, 4, 5, 6, 7, 8, 9, 10, 11, 12]\n",
            "[1, 2, 3, 4, 5, 6, 7, 8, 9, 10, 11, 12]\n",
            "[1, 2, 3, 4, 5, 6, 7, 8, 9, 10, 11, 12]\n",
            "[1, 2, 3, 4, 5, 6, 7, 8, 9, 10, 11, 12]\n",
            "[1, 2, 3, 4, 5, 6, 7, 8, 9, 10, 11, 12]\n",
            "[1, 2, 3, 4, 5, 6, 7, 8, 9, 10, 11, 12]\n",
            "[1, 2, 3, 4, 5, 6, 7, 8, 9, 10, 11, 12]\n"
          ]
        }
      ]
    },
    {
      "cell_type": "code",
      "source": [
        "even_number = list(range(2,11,2))\n",
        "print (even_number)\n",
        "for even in even_number:\n",
        "  print (even_number)"
      ],
      "metadata": {
        "id": "Vu3ard2UYOCf",
        "outputId": "10f5aca3-603a-4ff9-e343-d44d1d6dd837",
        "colab": {
          "base_uri": "https://localhost:8080/"
        }
      },
      "execution_count": 16,
      "outputs": [
        {
          "output_type": "stream",
          "name": "stdout",
          "text": [
            "[2, 4, 6, 8, 10]\n",
            "[2, 4, 6, 8, 10]\n",
            "[2, 4, 6, 8, 10]\n",
            "[2, 4, 6, 8, 10]\n",
            "[2, 4, 6, 8, 10]\n",
            "[2, 4, 6, 8, 10]\n"
          ]
        }
      ]
    },
    {
      "cell_type": "code",
      "source": [
        "for values in range (2,11):\n",
        "  print ((values) )"
      ],
      "metadata": {
        "id": "mYNByxXpbXnj",
        "outputId": "3fa4aa34-1f69-493b-dcca-06ddf36056cf",
        "colab": {
          "base_uri": "https://localhost:8080/"
        }
      },
      "execution_count": 25,
      "outputs": [
        {
          "output_type": "stream",
          "name": "stdout",
          "text": [
            "2\n",
            "3\n",
            "4\n",
            "5\n",
            "6\n",
            "7\n",
            "8\n",
            "9\n",
            "10\n"
          ]
        }
      ]
    },
    {
      "cell_type": "code",
      "source": [
        "squares = [ ]\n",
        "for value in range (1,22):\n",
        "  square = value**2\n",
        "  squares.append(square)\n",
        "print(squares)\n",
        "squares.pop()\n",
        "print (squares)"
      ],
      "metadata": {
        "id": "iTuTWeDipmqL",
        "outputId": "5c68e08f-7a80-4a83-cdcd-b680cfa8c18d",
        "colab": {
          "base_uri": "https://localhost:8080/"
        }
      },
      "execution_count": 35,
      "outputs": [
        {
          "output_type": "stream",
          "name": "stdout",
          "text": [
            "[1, 4, 9, 16, 25, 36, 49, 64, 81, 100, 121, 144, 169, 196, 225, 256, 289, 324, 361, 400, 441]\n",
            "[1, 4, 9, 16, 25, 36, 49, 64, 81, 100, 121, 144, 169, 196, 225, 256, 289, 324, 361, 400]\n"
          ]
        }
      ]
    },
    {
      "cell_type": "code",
      "source": [
        "squares = [ ]\n",
        "for value in range (1,22):\n",
        "  square = value**2\n",
        "  squares.append(square)\n",
        "print(squares)\n",
        "squares.pop()\n",
        "print (squares)\n",
        "squares.remove(169)\n",
        "print(squares)\n",
        "squares.pop(1)\n",
        "print(squares)\n",
        "squares.clear()\n",
        "print(squares)\n",
        "for value in range (1,22):\n",
        "  square = value**2\n",
        "  squares.append(square)\n",
        "print(squares)\n",
        "\n"
      ],
      "metadata": {
        "id": "S6riTVd9sEFP",
        "outputId": "903ce5b7-2400-47fe-8e83-9da7bdae2c3f",
        "colab": {
          "base_uri": "https://localhost:8080/"
        }
      },
      "execution_count": 56,
      "outputs": [
        {
          "output_type": "stream",
          "name": "stdout",
          "text": [
            "[1, 4, 9, 16, 25, 36, 49, 64, 81, 100, 121, 144, 169, 196, 225, 256, 289, 324, 361, 400, 441]\n",
            "[1, 4, 9, 16, 25, 36, 49, 64, 81, 100, 121, 144, 169, 196, 225, 256, 289, 324, 361, 400]\n",
            "[1, 4, 9, 16, 25, 36, 49, 64, 81, 100, 121, 144, 196, 225, 256, 289, 324, 361, 400]\n",
            "[1, 9, 16, 25, 36, 49, 64, 81, 100, 121, 144, 196, 225, 256, 289, 324, 361, 400]\n",
            "[]\n",
            "[1, 4, 9, 16, 25, 36, 49, 64, 81, 100, 121, 144, 169, 196, 225, 256, 289, 324, 361, 400, 441]\n"
          ]
        }
      ]
    }
  ]
}