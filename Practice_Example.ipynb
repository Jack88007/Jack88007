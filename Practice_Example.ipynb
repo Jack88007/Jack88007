{
  "nbformat": 4,
  "nbformat_minor": 0,
  "metadata": {
    "colab": {
      "provenance": [],
      "authorship_tag": "ABX9TyObaD967XF54LhkiOmdrX/h",
      "include_colab_link": true
    },
    "kernelspec": {
      "name": "python3",
      "display_name": "Python 3"
    },
    "language_info": {
      "name": "python"
    }
  },
  "cells": [
    {
      "cell_type": "markdown",
      "metadata": {
        "id": "view-in-github",
        "colab_type": "text"
      },
      "source": [
        "<a href=\"https://colab.research.google.com/github/Jack88007/Jack88007/blob/main/Practice_Example.ipynb\" target=\"_parent\"><img src=\"https://colab.research.google.com/assets/colab-badge.svg\" alt=\"Open In Colab\"/></a>"
      ]
    },
    {
      "cell_type": "markdown",
      "source": [
        "**first_numbers.py**"
      ],
      "metadata": {
        "id": "nXcch5PAHA-q"
      }
    },
    {
      "cell_type": "code",
      "source": [
        "number = list(range(1,13))\n",
        "for values in range (1,13):\n",
        " print (number)"
      ],
      "metadata": {
        "colab": {
          "base_uri": "https://localhost:8080/"
        },
        "id": "bvGTPyUhHEz_",
        "outputId": "fc29d461-d592-4340-f91e-82a5c2311a12"
      },
      "execution_count": null,
      "outputs": [
        {
          "output_type": "stream",
          "name": "stdout",
          "text": [
            "[1, 2, 3, 4, 5, 6, 7, 8, 9, 10, 11, 12]\n",
            "[1, 2, 3, 4, 5, 6, 7, 8, 9, 10, 11, 12]\n",
            "[1, 2, 3, 4, 5, 6, 7, 8, 9, 10, 11, 12]\n",
            "[1, 2, 3, 4, 5, 6, 7, 8, 9, 10, 11, 12]\n",
            "[1, 2, 3, 4, 5, 6, 7, 8, 9, 10, 11, 12]\n",
            "[1, 2, 3, 4, 5, 6, 7, 8, 9, 10, 11, 12]\n",
            "[1, 2, 3, 4, 5, 6, 7, 8, 9, 10, 11, 12]\n",
            "[1, 2, 3, 4, 5, 6, 7, 8, 9, 10, 11, 12]\n",
            "[1, 2, 3, 4, 5, 6, 7, 8, 9, 10, 11, 12]\n",
            "[1, 2, 3, 4, 5, 6, 7, 8, 9, 10, 11, 12]\n",
            "[1, 2, 3, 4, 5, 6, 7, 8, 9, 10, 11, 12]\n",
            "[1, 2, 3, 4, 5, 6, 7, 8, 9, 10, 11, 12]\n"
          ]
        }
      ]
    },
    {
      "cell_type": "code",
      "source": [
        "even_number = list(range(2,11,2))\n",
        "print (even_number)\n",
        "for even in even_number:\n",
        "  print (even_number)"
      ],
      "metadata": {
        "id": "Vu3ard2UYOCf",
        "outputId": "10f5aca3-603a-4ff9-e343-d44d1d6dd837",
        "colab": {
          "base_uri": "https://localhost:8080/"
        }
      },
      "execution_count": null,
      "outputs": [
        {
          "output_type": "stream",
          "name": "stdout",
          "text": [
            "[2, 4, 6, 8, 10]\n",
            "[2, 4, 6, 8, 10]\n",
            "[2, 4, 6, 8, 10]\n",
            "[2, 4, 6, 8, 10]\n",
            "[2, 4, 6, 8, 10]\n",
            "[2, 4, 6, 8, 10]\n"
          ]
        }
      ]
    },
    {
      "cell_type": "code",
      "source": [
        "for values in range (2,11):\n",
        "  print ((values) )"
      ],
      "metadata": {
        "id": "mYNByxXpbXnj",
        "outputId": "3fa4aa34-1f69-493b-dcca-06ddf36056cf",
        "colab": {
          "base_uri": "https://localhost:8080/"
        }
      },
      "execution_count": null,
      "outputs": [
        {
          "output_type": "stream",
          "name": "stdout",
          "text": [
            "2\n",
            "3\n",
            "4\n",
            "5\n",
            "6\n",
            "7\n",
            "8\n",
            "9\n",
            "10\n"
          ]
        }
      ]
    },
    {
      "cell_type": "code",
      "source": [
        "squares = [ ]\n",
        "for value in range (1,22):\n",
        "  square = value**2\n",
        "  squares.append(square)\n",
        "print(squares)\n",
        "squares.pop()\n",
        "print (squares)"
      ],
      "metadata": {
        "id": "iTuTWeDipmqL",
        "outputId": "5c68e08f-7a80-4a83-cdcd-b680cfa8c18d",
        "colab": {
          "base_uri": "https://localhost:8080/"
        }
      },
      "execution_count": null,
      "outputs": [
        {
          "output_type": "stream",
          "name": "stdout",
          "text": [
            "[1, 4, 9, 16, 25, 36, 49, 64, 81, 100, 121, 144, 169, 196, 225, 256, 289, 324, 361, 400, 441]\n",
            "[1, 4, 9, 16, 25, 36, 49, 64, 81, 100, 121, 144, 169, 196, 225, 256, 289, 324, 361, 400]\n"
          ]
        }
      ]
    },
    {
      "cell_type": "code",
      "source": [
        "squares = [ ]\n",
        "for value in range (1,22):\n",
        "  square = value**2\n",
        "  squares.append(square)\n",
        "print(squares)\n",
        "squares.pop()\n",
        "print (squares)\n",
        "squares.remove(169)\n",
        "print(squares)\n",
        "squares.pop(1)\n",
        "print(squares)\n",
        "squares.clear()\n",
        "print(squares)\n",
        "for value in range (1,22):\n",
        "  square = value**2\n",
        "  squares.append(square)\n",
        "print(squares)\n",
        "\n"
      ],
      "metadata": {
        "id": "S6riTVd9sEFP",
        "outputId": "903ce5b7-2400-47fe-8e83-9da7bdae2c3f",
        "colab": {
          "base_uri": "https://localhost:8080/"
        }
      },
      "execution_count": null,
      "outputs": [
        {
          "output_type": "stream",
          "name": "stdout",
          "text": [
            "[1, 4, 9, 16, 25, 36, 49, 64, 81, 100, 121, 144, 169, 196, 225, 256, 289, 324, 361, 400, 441]\n",
            "[1, 4, 9, 16, 25, 36, 49, 64, 81, 100, 121, 144, 169, 196, 225, 256, 289, 324, 361, 400]\n",
            "[1, 4, 9, 16, 25, 36, 49, 64, 81, 100, 121, 144, 196, 225, 256, 289, 324, 361, 400]\n",
            "[1, 9, 16, 25, 36, 49, 64, 81, 100, 121, 144, 196, 225, 256, 289, 324, 361, 400]\n",
            "[]\n",
            "[1, 4, 9, 16, 25, 36, 49, 64, 81, 100, 121, 144, 169, 196, 225, 256, 289, 324, 361, 400, 441]\n"
          ]
        }
      ]
    },
    {
      "cell_type": "markdown",
      "source": [
        "**Coding**"
      ],
      "metadata": {
        "id": "yQh4_28sYXB1"
      }
    },
    {
      "cell_type": "code",
      "source": [
        "Number1 = input('enter the number to be added')\n",
        "Number2 = input('enter the 2nd number to be added')\n",
        "Addition = int(int(Number1) + int(Number2))\n",
        "print(Addition)"
      ],
      "metadata": {
        "id": "GWoaTQQ8Yc-7",
        "outputId": "53b19d58-9f48-4e33-ceff-bd152d8e41cc",
        "colab": {
          "base_uri": "https://localhost:8080/"
        }
      },
      "execution_count": null,
      "outputs": [
        {
          "output_type": "stream",
          "name": "stdout",
          "text": [
            "enter the number to be added40\n",
            "enter the 2nd number to be added50\n",
            "90\n"
          ]
        }
      ]
    },
    {
      "cell_type": "code",
      "source": [],
      "metadata": {
        "id": "16VhjJFMmPur"
      },
      "execution_count": null,
      "outputs": []
    },
    {
      "cell_type": "markdown",
      "source": [
        "**Practicle application of code**"
      ],
      "metadata": {
        "id": "v59Y0xxesD_Z"
      }
    },
    {
      "cell_type": "code",
      "source": [
        "shopping_list = ['egg', 'milk', 'bread', 'apple', 'bananas']\n",
        "#print out the lists\n",
        "print ('my shopping list is:', shopping_list)\n",
        "for item in shopping_list:\n",
        "  print (item)\n",
        "#check if the item is on the list\n",
        "item_to_find = input ('Enter the item to find on the list: ')\n",
        "if item_to_find in shopping_list:\n",
        "  print(f\"{item_to_find} is on the list\")\n",
        "else:\n",
        "  print(f\"{item_to_find} is not on the list\")\n",
        "Responce = input(f\"Do you want to add {item_to_find}(Y/N)\")\n",
        "if Responce == \"Y\":\n",
        "  shopping_list.append(item_to_find)\n",
        "  print(f'new shopping list is {shopping_list}')\n",
        "else:\n",
        "  print(shopping_list)"
      ],
      "metadata": {
        "id": "Lbl9kvF4sHdN",
        "outputId": "df77083b-192b-469c-ada0-5c61f8c7beb7",
        "colab": {
          "base_uri": "https://localhost:8080/"
        }
      },
      "execution_count": null,
      "outputs": [
        {
          "output_type": "stream",
          "name": "stdout",
          "text": [
            "my shopping list is: ['egg', 'milk', 'bread', 'apple', 'bananas']\n",
            "egg\n",
            "milk\n",
            "bread\n",
            "apple\n",
            "bananas\n",
            "Enter the item to find on the list: BISCUIT\n",
            "BISCUIT is not on the list\n",
            "Do you want to add BISCUIT(Y/N)Y\n",
            "new shopping list is ['egg', 'milk', 'bread', 'apple', 'bananas', 'BISCUIT']\n"
          ]
        }
      ]
    },
    {
      "cell_type": "markdown",
      "source": [
        "**Working Example Project**"
      ],
      "metadata": {
        "id": "JjuP3HjfDrNf"
      }
    },
    {
      "cell_type": "code",
      "source": [
        "shopping_list = [\"egg\", \"milk\", \"bread\", \"apples\", \"bananas\"] \n",
        "\n",
        "# Print out the list\n",
        "print(\"My shopping list:\")\n",
        "# Check if an item is on the list\n",
        "item_to_find = input(f'Enter the item to be found : ')\n",
        "if item_to_find in shopping_list:\n",
        "    print(f\"{item_to_find} is on the list\")\n",
        "else:\n",
        "    print(f\"{item_to_find} is not on the list\")\n",
        "# Add an item to the list\n",
        "    new_item = input(f'Do you want to add {item_to_find} to the list? (Y/N)')\n",
        "    if new_item == \"Y\":\n",
        "      shopping_list.append(item_to_find)\n",
        "    print(f\"{new_item} has been added to the list.\")\n",
        "\n",
        "# Remove an item from the list\n",
        "item_to_remove = input(f'Enter the item to be removed : ')\n",
        "if item_to_remove in shopping_list:\n",
        "  print(f\"{item_to_remove} is on the list\")\n",
        "  shopping_list.remove(item_to_remove)\n",
        "  print(f\"{item_to_remove} has been removed from the list.\")\n",
        "  print(f\"New list is {shopping_list}\")\n",
        "else:\n",
        "  print(f\"{item_to_remove} is not on the list\")\n",
        "\n",
        "\n",
        "# Sort the list\n",
        "\n",
        "shopping_list.sort()\n",
        "print(\"The shopping list has been sorted.\")\n",
        "print(shopping_list)\n"
      ],
      "metadata": {
        "id": "G24f0frXDqxZ",
        "outputId": "4e35bc0f-0ed4-4aaf-e4ef-da41fe048618",
        "colab": {
          "base_uri": "https://localhost:8080/"
        }
      },
      "execution_count": 9,
      "outputs": [
        {
          "output_type": "stream",
          "name": "stdout",
          "text": [
            "My shopping list:\n",
            "Enter the item to be found : Honey\n",
            "Honey is not on the list\n",
            "Do you want to add Honey to the list? (Y/N)Y\n",
            "Y has been added to the list.\n",
            "Enter the item to be removed : EGG\n",
            "EGG is not on the list\n",
            "The shopping list has been sorted.\n",
            "['Honey', 'apples', 'bananas', 'bread', 'egg', 'milk']\n"
          ]
        }
      ]
    },
    {
      "cell_type": "code",
      "source": [],
      "metadata": {
        "id": "1qUnk8unD0Xx"
      },
      "execution_count": null,
      "outputs": []
    }
  ]
}